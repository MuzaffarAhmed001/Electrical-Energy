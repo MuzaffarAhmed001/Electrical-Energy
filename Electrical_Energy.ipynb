{
  "nbformat": 4,
  "nbformat_minor": 0,
  "metadata": {
    "colab": {
      "name": "Electrical_Energy.ipynb",
      "provenance": [],
      "collapsed_sections": [],
      "toc_visible": true
    },
    "kernelspec": {
      "name": "python3",
      "display_name": "Python 3"
    }
  },
  "cells": [
    {
      "cell_type": "markdown",
      "metadata": {
        "id": "RFFmDVjZt1_G"
      },
      "source": [
        "## Electrical energy prediction using ANN"
      ]
    },
    {
      "cell_type": "markdown",
      "metadata": {
        "id": "_IiBzdFZuA91"
      },
      "source": [
        "# Importing Libraries"
      ]
    },
    {
      "cell_type": "code",
      "metadata": {
        "id": "xvd8pSD6t9sD"
      },
      "source": [
        "import numpy as np\n",
        "import pandas as pd\n",
        "import tensorflow as tf"
      ],
      "execution_count": null,
      "outputs": []
    },
    {
      "cell_type": "code",
      "metadata": {
        "id": "y9ArfNxwuMsr",
        "colab": {
          "base_uri": "https://localhost:8080/",
          "height": 35
        },
        "outputId": "3743d07e-5a8c-4dc0-b981-b43723233392"
      },
      "source": [
        "tf.__version__"
      ],
      "execution_count": null,
      "outputs": [
        {
          "output_type": "execute_result",
          "data": {
            "application/vnd.google.colaboratory.intrinsic": {
              "type": "string"
            },
            "text/plain": [
              "'2.2.0'"
            ]
          },
          "metadata": {
            "tags": []
          },
          "execution_count": 3
        }
      ]
    },
    {
      "cell_type": "markdown",
      "metadata": {
        "id": "6NKAhH40uR4d"
      },
      "source": [
        "# Importing Dataset"
      ]
    },
    {
      "cell_type": "code",
      "metadata": {
        "id": "44ezAPXYuXCv"
      },
      "source": [
        "dataset=pd.read_excel('Folds5x2_pp.xlsx')\n",
        "X=dataset.iloc[:,:-1].values\n",
        "y=dataset.iloc[:,-1].values"
      ],
      "execution_count": null,
      "outputs": []
    },
    {
      "cell_type": "code",
      "metadata": {
        "id": "NuH5nEytvh5j",
        "colab": {
          "base_uri": "https://localhost:8080/",
          "height": 153
        },
        "outputId": "7ca19aeb-977f-4f99-f7ff-96918df467ec"
      },
      "source": [
        "print(X)\n",
        "print(y)"
      ],
      "execution_count": null,
      "outputs": [
        {
          "output_type": "stream",
          "text": [
            "[[  14.96   41.76 1024.07   73.17]\n",
            " [  25.18   62.96 1020.04   59.08]\n",
            " [   5.11   39.4  1012.16   92.14]\n",
            " ...\n",
            " [  31.32   74.33 1012.92   36.48]\n",
            " [  24.48   69.45 1013.86   62.39]\n",
            " [  21.6    62.52 1017.23   67.87]]\n",
            "[463.26 444.37 488.56 ... 429.57 435.74 453.28]\n"
          ],
          "name": "stdout"
        }
      ]
    },
    {
      "cell_type": "markdown",
      "metadata": {
        "id": "iGAfwO7RvoEG"
      },
      "source": [
        "# Splitting dataset into training set and test set"
      ]
    },
    {
      "cell_type": "code",
      "metadata": {
        "id": "Z4VBX5TwvtVx"
      },
      "source": [
        "from sklearn.model_selection import train_test_split\n",
        "X_train,X_test,y_train,y_test=train_test_split(X,y,test_size=0.2,random_state=0)"
      ],
      "execution_count": null,
      "outputs": []
    },
    {
      "cell_type": "code",
      "metadata": {
        "id": "10BTPZ1cwCGM",
        "colab": {
          "base_uri": "https://localhost:8080/",
          "height": 136
        },
        "outputId": "49eff41e-6962-497a-ca68-23be99f9aed0"
      },
      "source": [
        "print(X_test)"
      ],
      "execution_count": null,
      "outputs": [
        {
          "output_type": "stream",
          "text": [
            "[[  28.66   77.95 1009.56   69.07]\n",
            " [  17.48   49.39 1021.51   84.53]\n",
            " [  14.86   43.14 1019.21   99.14]\n",
            " ...\n",
            " [  12.24   44.92 1023.74   88.21]\n",
            " [  27.28   47.93 1003.46   59.22]\n",
            " [  17.28   39.99 1007.09   74.25]]\n"
          ],
          "name": "stdout"
        }
      ]
    },
    {
      "cell_type": "markdown",
      "metadata": {
        "id": "vifhNYbJwIz-"
      },
      "source": [
        "# Building ANN "
      ]
    },
    {
      "cell_type": "markdown",
      "metadata": {
        "id": "D_yODl2GwMVi"
      },
      "source": [
        "# Initializing ANN"
      ]
    },
    {
      "cell_type": "code",
      "metadata": {
        "id": "CP9RL4NZwQeH"
      },
      "source": [
        "ann=tf.keras.Sequential()"
      ],
      "execution_count": null,
      "outputs": []
    },
    {
      "cell_type": "markdown",
      "metadata": {
        "id": "98aITlO3waWh"
      },
      "source": [
        "# Creating input layer and First hidden Layer"
      ]
    },
    {
      "cell_type": "code",
      "metadata": {
        "id": "LrpImOguwfpU"
      },
      "source": [
        "ann.add(tf.keras.layers.Dense(units=6,activation='relu'))"
      ],
      "execution_count": null,
      "outputs": []
    },
    {
      "cell_type": "markdown",
      "metadata": {
        "id": "2tH58r3qw7Io"
      },
      "source": [
        "# Creating Second hidden Layer\n",
        "\n"
      ]
    },
    {
      "cell_type": "code",
      "metadata": {
        "id": "oUDuiiMaxc2N"
      },
      "source": [
        "ann.add(tf.keras.layers.Dense(units=6,activation='relu'))"
      ],
      "execution_count": null,
      "outputs": []
    },
    {
      "cell_type": "markdown",
      "metadata": {
        "id": "e2JkQviXxiBR"
      },
      "source": [
        "# Creating Output Layer"
      ]
    },
    {
      "cell_type": "code",
      "metadata": {
        "id": "vFIPep_TxnKH"
      },
      "source": [
        "ann.add(tf.keras.layers.Dense(units=1))"
      ],
      "execution_count": null,
      "outputs": []
    },
    {
      "cell_type": "markdown",
      "metadata": {
        "id": "PsNVfJ87xzHB"
      },
      "source": [
        "# Compiling ANN"
      ]
    },
    {
      "cell_type": "code",
      "metadata": {
        "id": "yqvpnrZwx3jx"
      },
      "source": [
        "ann.compile(optimizer='adam',loss='mean_squared_error')"
      ],
      "execution_count": null,
      "outputs": []
    },
    {
      "cell_type": "markdown",
      "metadata": {
        "id": "yCv3-LwpPSgJ"
      },
      "source": [
        "# Training ANN on training set"
      ]
    },
    {
      "cell_type": "code",
      "metadata": {
        "id": "msYtcv1qPYn0",
        "colab": {
          "base_uri": "https://localhost:8080/",
          "height": 1000
        },
        "outputId": "380e7169-ac3e-4f77-8a89-a1502b5992c7"
      },
      "source": [
        "ann.fit(X_train,y_train,batch_size=32,epochs=100)"
      ],
      "execution_count": null,
      "outputs": [
        {
          "output_type": "stream",
          "text": [
            "Epoch 1/100\n",
            "240/240 [==============================] - 0s 1ms/step - loss: 29914.0840\n",
            "Epoch 2/100\n",
            "240/240 [==============================] - 0s 1ms/step - loss: 460.9749\n",
            "Epoch 3/100\n",
            "240/240 [==============================] - 0s 1ms/step - loss: 439.2711\n",
            "Epoch 4/100\n",
            "240/240 [==============================] - 0s 1ms/step - loss: 412.6861\n",
            "Epoch 5/100\n",
            "240/240 [==============================] - 0s 1ms/step - loss: 382.5992\n",
            "Epoch 6/100\n",
            "240/240 [==============================] - 0s 1ms/step - loss: 351.2068\n",
            "Epoch 7/100\n",
            "240/240 [==============================] - 0s 1ms/step - loss: 317.3444\n",
            "Epoch 8/100\n",
            "240/240 [==============================] - 0s 1ms/step - loss: 284.7652\n",
            "Epoch 9/100\n",
            "240/240 [==============================] - 0s 1ms/step - loss: 251.5412\n",
            "Epoch 10/100\n",
            "240/240 [==============================] - 0s 1ms/step - loss: 220.8513\n",
            "Epoch 11/100\n",
            "240/240 [==============================] - 0s 1ms/step - loss: 191.7756\n",
            "Epoch 12/100\n",
            "240/240 [==============================] - 0s 1ms/step - loss: 165.7368\n",
            "Epoch 13/100\n",
            "240/240 [==============================] - 0s 1ms/step - loss: 142.5610\n",
            "Epoch 14/100\n",
            "240/240 [==============================] - 0s 1ms/step - loss: 122.4361\n",
            "Epoch 15/100\n",
            "240/240 [==============================] - 0s 1ms/step - loss: 105.0289\n",
            "Epoch 16/100\n",
            "240/240 [==============================] - 0s 1ms/step - loss: 90.1821\n",
            "Epoch 17/100\n",
            "240/240 [==============================] - 0s 1ms/step - loss: 78.0419\n",
            "Epoch 18/100\n",
            "240/240 [==============================] - 0s 1ms/step - loss: 68.1233\n",
            "Epoch 19/100\n",
            "240/240 [==============================] - 0s 1ms/step - loss: 59.8384\n",
            "Epoch 20/100\n",
            "240/240 [==============================] - 0s 1ms/step - loss: 53.8781\n",
            "Epoch 21/100\n",
            "240/240 [==============================] - 0s 1ms/step - loss: 48.7436\n",
            "Epoch 22/100\n",
            "240/240 [==============================] - 0s 1ms/step - loss: 44.8277\n",
            "Epoch 23/100\n",
            "240/240 [==============================] - 0s 1ms/step - loss: 41.7994\n",
            "Epoch 24/100\n",
            "240/240 [==============================] - 0s 1ms/step - loss: 39.6129\n",
            "Epoch 25/100\n",
            "240/240 [==============================] - 0s 1ms/step - loss: 37.8586\n",
            "Epoch 26/100\n",
            "240/240 [==============================] - 0s 1ms/step - loss: 36.4094\n",
            "Epoch 27/100\n",
            "240/240 [==============================] - 0s 1ms/step - loss: 36.5943\n",
            "Epoch 28/100\n",
            "240/240 [==============================] - 0s 1ms/step - loss: 34.3050\n",
            "Epoch 29/100\n",
            "240/240 [==============================] - 0s 1ms/step - loss: 32.8364\n",
            "Epoch 30/100\n",
            "240/240 [==============================] - 0s 1ms/step - loss: 32.1287\n",
            "Epoch 31/100\n",
            "240/240 [==============================] - 0s 1ms/step - loss: 31.5227\n",
            "Epoch 32/100\n",
            "240/240 [==============================] - 0s 1ms/step - loss: 30.8733\n",
            "Epoch 33/100\n",
            "240/240 [==============================] - 0s 1ms/step - loss: 29.6875\n",
            "Epoch 34/100\n",
            "240/240 [==============================] - 0s 1ms/step - loss: 28.9861\n",
            "Epoch 35/100\n",
            "240/240 [==============================] - 0s 1ms/step - loss: 28.5294\n",
            "Epoch 36/100\n",
            "240/240 [==============================] - 0s 1ms/step - loss: 28.7238\n",
            "Epoch 37/100\n",
            "240/240 [==============================] - 0s 1ms/step - loss: 28.6339\n",
            "Epoch 38/100\n",
            "240/240 [==============================] - 0s 1ms/step - loss: 27.7432\n",
            "Epoch 39/100\n",
            "240/240 [==============================] - 0s 1ms/step - loss: 27.6240\n",
            "Epoch 40/100\n",
            "240/240 [==============================] - 0s 990us/step - loss: 27.2776\n",
            "Epoch 41/100\n",
            "240/240 [==============================] - 0s 1ms/step - loss: 27.3491\n",
            "Epoch 42/100\n",
            "240/240 [==============================] - 0s 1ms/step - loss: 27.4890\n",
            "Epoch 43/100\n",
            "240/240 [==============================] - 0s 1ms/step - loss: 27.2270\n",
            "Epoch 44/100\n",
            "240/240 [==============================] - 0s 1ms/step - loss: 27.3430\n",
            "Epoch 45/100\n",
            "240/240 [==============================] - 0s 1ms/step - loss: 26.7004\n",
            "Epoch 46/100\n",
            "240/240 [==============================] - 0s 1ms/step - loss: 27.3253\n",
            "Epoch 47/100\n",
            "240/240 [==============================] - 0s 1ms/step - loss: 27.1842\n",
            "Epoch 48/100\n",
            "240/240 [==============================] - 0s 1ms/step - loss: 27.3003\n",
            "Epoch 49/100\n",
            "240/240 [==============================] - 0s 1ms/step - loss: 27.1099\n",
            "Epoch 50/100\n",
            "240/240 [==============================] - 0s 1ms/step - loss: 27.3736\n",
            "Epoch 51/100\n",
            "240/240 [==============================] - 0s 1ms/step - loss: 26.8903\n",
            "Epoch 52/100\n",
            "240/240 [==============================] - 0s 1ms/step - loss: 26.5101\n",
            "Epoch 53/100\n",
            "240/240 [==============================] - 0s 1ms/step - loss: 27.0764\n",
            "Epoch 54/100\n",
            "240/240 [==============================] - 0s 1ms/step - loss: 27.1697\n",
            "Epoch 55/100\n",
            "240/240 [==============================] - 0s 1ms/step - loss: 26.8899\n",
            "Epoch 56/100\n",
            "240/240 [==============================] - 0s 1ms/step - loss: 26.8828\n",
            "Epoch 57/100\n",
            "240/240 [==============================] - 0s 1ms/step - loss: 26.7770\n",
            "Epoch 58/100\n",
            "240/240 [==============================] - 0s 1ms/step - loss: 26.9782\n",
            "Epoch 59/100\n",
            "240/240 [==============================] - 0s 1ms/step - loss: 26.6564\n",
            "Epoch 60/100\n",
            "240/240 [==============================] - 0s 1ms/step - loss: 26.7588\n",
            "Epoch 61/100\n",
            "240/240 [==============================] - 0s 1ms/step - loss: 26.4642\n",
            "Epoch 62/100\n",
            "240/240 [==============================] - 0s 1ms/step - loss: 26.6614\n",
            "Epoch 63/100\n",
            "240/240 [==============================] - 0s 1ms/step - loss: 26.5507\n",
            "Epoch 64/100\n",
            "240/240 [==============================] - 0s 1ms/step - loss: 27.3858\n",
            "Epoch 65/100\n",
            "240/240 [==============================] - 0s 1ms/step - loss: 26.8414\n",
            "Epoch 66/100\n",
            "240/240 [==============================] - 0s 1ms/step - loss: 27.6105\n",
            "Epoch 67/100\n",
            "240/240 [==============================] - 0s 994us/step - loss: 27.1100\n",
            "Epoch 68/100\n",
            "240/240 [==============================] - 0s 1ms/step - loss: 26.6521\n",
            "Epoch 69/100\n",
            "240/240 [==============================] - 0s 1ms/step - loss: 26.3096\n",
            "Epoch 70/100\n",
            "240/240 [==============================] - 0s 1ms/step - loss: 26.5842\n",
            "Epoch 71/100\n",
            "240/240 [==============================] - 0s 1ms/step - loss: 27.3855\n",
            "Epoch 72/100\n",
            "240/240 [==============================] - 0s 1ms/step - loss: 28.0764\n",
            "Epoch 73/100\n",
            "240/240 [==============================] - 0s 1ms/step - loss: 26.6506\n",
            "Epoch 74/100\n",
            "240/240 [==============================] - 0s 1ms/step - loss: 26.8411\n",
            "Epoch 75/100\n",
            "240/240 [==============================] - 0s 1ms/step - loss: 26.9454\n",
            "Epoch 76/100\n",
            "240/240 [==============================] - 0s 1ms/step - loss: 27.0696\n",
            "Epoch 77/100\n",
            "240/240 [==============================] - 0s 1ms/step - loss: 26.5580\n",
            "Epoch 78/100\n",
            "240/240 [==============================] - 0s 1ms/step - loss: 26.6191\n",
            "Epoch 79/100\n",
            "240/240 [==============================] - 0s 1ms/step - loss: 27.0215\n",
            "Epoch 80/100\n",
            "240/240 [==============================] - 0s 1ms/step - loss: 27.8747\n",
            "Epoch 81/100\n",
            "240/240 [==============================] - 0s 1ms/step - loss: 26.5676\n",
            "Epoch 82/100\n",
            "240/240 [==============================] - 0s 1ms/step - loss: 26.7030\n",
            "Epoch 83/100\n",
            "240/240 [==============================] - 0s 1ms/step - loss: 26.6516\n",
            "Epoch 84/100\n",
            "240/240 [==============================] - 0s 1ms/step - loss: 26.7864\n",
            "Epoch 85/100\n",
            "240/240 [==============================] - 0s 1ms/step - loss: 26.7603\n",
            "Epoch 86/100\n",
            "240/240 [==============================] - 0s 1ms/step - loss: 26.5865\n",
            "Epoch 87/100\n",
            "240/240 [==============================] - 0s 1ms/step - loss: 26.5606\n",
            "Epoch 88/100\n",
            "240/240 [==============================] - 0s 1ms/step - loss: 26.6026\n",
            "Epoch 89/100\n",
            "240/240 [==============================] - 0s 1ms/step - loss: 26.8206\n",
            "Epoch 90/100\n",
            "240/240 [==============================] - 0s 1ms/step - loss: 26.9932\n",
            "Epoch 91/100\n",
            "240/240 [==============================] - 0s 1ms/step - loss: 26.9414\n",
            "Epoch 92/100\n",
            "240/240 [==============================] - 0s 1ms/step - loss: 26.3141\n",
            "Epoch 93/100\n",
            "240/240 [==============================] - 0s 1ms/step - loss: 26.6515\n",
            "Epoch 94/100\n",
            "240/240 [==============================] - 0s 1ms/step - loss: 26.6757\n",
            "Epoch 95/100\n",
            "240/240 [==============================] - 0s 1ms/step - loss: 26.8583\n",
            "Epoch 96/100\n",
            "240/240 [==============================] - 0s 1ms/step - loss: 27.1838\n",
            "Epoch 97/100\n",
            "240/240 [==============================] - 0s 1ms/step - loss: 26.7914\n",
            "Epoch 98/100\n",
            "240/240 [==============================] - 0s 1ms/step - loss: 26.8529\n",
            "Epoch 99/100\n",
            "240/240 [==============================] - 0s 1ms/step - loss: 27.7127\n",
            "Epoch 100/100\n",
            "240/240 [==============================] - 0s 1ms/step - loss: 26.8083\n"
          ],
          "name": "stdout"
        },
        {
          "output_type": "execute_result",
          "data": {
            "text/plain": [
              "<tensorflow.python.keras.callbacks.History at 0x7f155df07dd8>"
            ]
          },
          "metadata": {
            "tags": []
          },
          "execution_count": 13
        }
      ]
    },
    {
      "cell_type": "markdown",
      "metadata": {
        "id": "57NHXDiKQNXS"
      },
      "source": [
        "# Predicting the results of test set"
      ]
    },
    {
      "cell_type": "code",
      "metadata": {
        "id": "DAArUmTKQaX4",
        "colab": {
          "base_uri": "https://localhost:8080/",
          "height": 136
        },
        "outputId": "2ac80e80-919a-48d7-8e67-1501bf5fab70"
      },
      "source": [
        "y_pred=ann.predict(X_test)\n",
        "np.set_printoptions(precision=2)\n",
        "print(np.concatenate((y_pred.reshape(len(y_pred),1),y_test.reshape(len(y_test),1)),1))"
      ],
      "execution_count": null,
      "outputs": [
        {
          "output_type": "stream",
          "text": [
            "[[433.91 431.23]\n",
            " [464.92 460.01]\n",
            " [468.39 461.14]\n",
            " ...\n",
            " [475.67 473.26]\n",
            " [442.35 438.  ]\n",
            " [461.59 463.28]]\n"
          ],
          "name": "stdout"
        }
      ]
    }
  ]
}